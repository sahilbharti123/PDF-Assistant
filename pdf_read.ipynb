{
 "cells": [
  {
   "cell_type": "code",
   "execution_count": null,
   "metadata": {},
   "outputs": [],
   "source": [
    "# Installing the necessary packages\n",
    "\n",
    "!pip install python-dotenv\n",
    "!pip install llama_index\n",
    "!pip install pypdf\n",
    "!pip install openai"
   ]
  },
  {
   "cell_type": "code",
   "execution_count": 16,
   "metadata": {},
   "outputs": [],
   "source": [
    "#Importing the libraries\n",
    "\n",
    "import os\n",
    "from dotenv import load_dotenv\n",
    "from llama_index import VectorStoreIndex,SimpleDirectoryReader\n",
    "from llama_index.retrievers import VectorIndexRetriever\n",
    "from llama_index.query_engine import RetrieverQueryEngine\n",
    "from llama_index.response.pprint_utils import pprint_response"
   ]
  },
  {
   "cell_type": "code",
   "execution_count": 17,
   "metadata": {},
   "outputs": [
    {
     "data": {
      "text/plain": [
       "True"
      ]
     },
     "execution_count": 17,
     "metadata": {},
     "output_type": "execute_result"
    }
   ],
   "source": [
    "#loading .env variable which is the Openai API KEY\n",
    "\n",
    "load_dotenv()"
   ]
  },
  {
   "cell_type": "code",
   "execution_count": 18,
   "metadata": {},
   "outputs": [],
   "source": [
    "# Calling the API KEY\n",
    "\n",
    "os.environ['OPENAI_API_KEY'] = os.getenv(\"OPENAI_API_KEY\")"
   ]
  },
  {
   "cell_type": "code",
   "execution_count": 19,
   "metadata": {},
   "outputs": [],
   "source": [
    "#Loading the pdf files from the folder \"pdfs\"\n",
    "\n",
    "pdf_docs = SimpleDirectoryReader(\"pdfs\").load_data()\n"
   ]
  },
  {
   "cell_type": "code",
   "execution_count": 20,
   "metadata": {},
   "outputs": [
    {
     "name": "stderr",
     "output_type": "stream",
     "text": [
      "Parsing nodes: 100%|██████████| 6/6 [00:00<00:00, 99.20it/s]\n",
      "Generating embeddings: 100%|██████████| 6/6 [00:02<00:00,  2.67it/s]\n"
     ]
    }
   ],
   "source": [
    "# converting the documents into index\n",
    "\n",
    "doc_index = VectorStoreIndex.from_documents(pdf_docs, show_progress=True)\n"
   ]
  },
  {
   "cell_type": "code",
   "execution_count": 21,
   "metadata": {},
   "outputs": [
    {
     "name": "stdout",
     "output_type": "stream",
     "text": [
      "The MG Rajan case involved an individual named Mr. M.G. Rajan who filed a Right to Information (RTI) application seeking information on certain advances made by the State Bank of India. The Public Information Officer (PIO) denied the information under sections 8(1)(d), (e), and (j) of the RTI Act. Mr. Rajan filed a first appeal with the first appellate authority (FAA), who upheld the decision of the PIO. Subsequently, Mr. Rajan filed a second appeal with the Central Information Commission. \n",
      "\n",
      "During the hearing, Mr. Rajan stated that he needed information on 15 points mentioned in his RTI application, claiming that the bank had given loans that indicated malpractices. The respondent, the State Bank of India, stated that the matter was under investigation and that a complaint had been filed with the police. The respondent argued that the information could not be disclosed as it was exempted under the RTI Act. The bank also mentioned that it was taking suo moto action regarding non-performing loans.\n",
      "\n",
      "The Commission found that the approach taken by the PIO and FAA was in accordance with the RTI Act and upheld the decision of the FAA. The appeal was disposed of, and a copy of the decision was provided to the parties free of cost.\n"
     ]
    }
   ],
   "source": [
    "# extracting the response from the pdfs\n",
    "\n",
    "search_engine = doc_index.as_query_engine()\n",
    "pdf_response = search_engine.query(\"Explain the MG Rajan case\")\n",
    "print(pdf_response)"
   ]
  },
  {
   "cell_type": "code",
   "execution_count": 22,
   "metadata": {},
   "outputs": [
    {
     "name": "stdout",
     "output_type": "stream",
     "text": [
      "Final Response: The MG Rajan case involved an individual named Mr.\n",
      "M.G. Rajan who filed a Right to Information (RTI) application seeking\n",
      "information on certain advances made by the State Bank of India. The\n",
      "Public Information Officer (PIO) denied the information under sections\n",
      "8(1)(d), (e), and (j) of the RTI Act. Mr. Rajan filed a first appeal\n",
      "with the first appellate authority (FAA), who upheld the decision of\n",
      "the PIO. Subsequently, Mr. Rajan filed a second appeal with the\n",
      "Central Information Commission.   During the hearing, Mr. Rajan stated\n",
      "that he needed information on 15 points mentioned in his RTI\n",
      "application, claiming that the bank had given loans that indicated\n",
      "malpractices. The respondent, the State Bank of India, stated that the\n",
      "matter was under investigation and that a complaint had been filed\n",
      "with the police. The respondent argued that the information could not\n",
      "be disclosed as it was exempted under the RTI Act. The bank also\n",
      "mentioned that it was taking suo moto action regarding non-performing\n",
      "loans.  The Commission found that the approach taken by the PIO and\n",
      "FAA was in accordance with the RTI Act and upheld the decision of the\n",
      "FAA. The appeal was disposed of, and a copy of the decision was\n",
      "provided to the parties free of cost.\n",
      "______________________________________________________________________\n",
      "Source Node 1/2\n",
      "Node ID: 5425695f-b95f-4572-81d9-dbf0f74b208c\n",
      "Similarity: 0.8461132283243007\n",
      "Text: Central Information Commission Mr.M G Rajan vs State Bank Of\n",
      "India on 13 March, 2013                           CENTRAL INFORMATION\n",
      "COMMISSION                            CLUB BUILDING (NEAR POST OFFICE)\n",
      "OLD JNU CAMPUS, NEW DELHI−110 067\n",
      "TEL: 011−26179548                         ...\n",
      "______________________________________________________________________\n",
      "Source Node 2/2\n",
      "Node ID: 82f22a97-b154-4234-b229-efd8206e9b78\n",
      "Similarity: 0.8268870187086991\n",
      "Text: 5. The respondent stated that the matter is pending\n",
      "investigation and that a complaint  has also been filed with the\n",
      "police for enquiry.   The respondent stated that the information\n",
      "cannot be given as this is exempted from disclosure under the RTI Act\n",
      "in which the bank has  denied information under section 8(1)(d),(e)\n",
      "and (j) of the RTI Act.   ...\n"
     ]
    }
   ],
   "source": [
    "#  Uitlizing the pprint_response function from the llama_index.response.pprint_utils library to print the response in more transparent way\n",
    "\n",
    "pprint_response(pdf_response, show_source= True)"
   ]
  },
  {
   "cell_type": "code",
   "execution_count": 24,
   "metadata": {},
   "outputs": [],
   "source": [
    "# if we want to check multiple sources instead of two, we can do that using the VectorIndexRetreiver\n",
    "\n",
    "Index_retriever = VectorIndexRetriever(index=doc_index, similarity_top_k=3)\n",
    "search_engine=RetrieverQueryEngine(retriever=Index_retriever)"
   ]
  },
  {
   "cell_type": "code",
   "execution_count": 25,
   "metadata": {},
   "outputs": [
    {
     "name": "stdout",
     "output_type": "stream",
     "text": [
      "Final Response: The decision on the Ram Kishan case was that the\n",
      "Central Information Commission directed the Central Public Information\n",
      "Officer (CPIO) to examine Ram Kishan's complaint afresh under the\n",
      "relevant provision of law and provide the factual information to him.\n",
      "The CPIO was also instructed to look into Ram Kishan's complaint\n",
      "regarding a threat to his life and liberty and take appropriate action\n",
      "on the same. The CPIO was required to provide the information and\n",
      "reply to Ram Kishan within three weeks of receiving the order.\n",
      "______________________________________________________________________\n",
      "Source Node 1/3\n",
      "Node ID: 223f3f10-22ac-40a8-93ba-999d980872ba\n",
      "Similarity: 0.8485972547656822\n",
      "Text: 2. Shri Ramkishan S/o Shri Sunder Lal House No. 146, Mangolpuri\n",
      "Delhi 110083 3. The Central Public Information Officer & Add. Deputy\n",
      "Commissioner of Police Delhi Police, Outer District Pushpanjali Road\n",
      "No. 43 Delhi  34 4. The Appellate Authority/ Deputy Commissioner of\n",
      "Police Delhi Police, Outer District Pushpanjali Road No. 43 Delhi  34\n",
      "CIC/SS/...\n",
      "______________________________________________________________________\n",
      "Source Node 2/3\n",
      "Node ID: 1cfb3138-7daa-451d-a3a8-7d66f7cf9785\n",
      "Similarity: 0.8453880913941577\n",
      "Text: Central Information Commission Mr.Ram Kishan vs Delhi Police on\n",
      "5 September, 2013                            Central Information\n",
      "Commission             Room No. 305, 2nd Floor, 'B' Wing, August\n",
      "Kranti Bhavan,                        Bhikaji Cama Place, New\n",
      "Delhi−110066                        Web: www.cic.gov.in Tel No:\n",
      "26167931                   ...\n",
      "______________________________________________________________________\n",
      "Source Node 3/3\n",
      "Node ID: 9af6457d-4f1b-499e-85ac-f690e28d2d71\n",
      "Similarity: 0.8354741125830167\n",
      "Text: 7. The Appellant, on his part, alleges that his complaint has\n",
      "not been properly  enquired into by the police. It is his cases that\n",
      "he has been wrongfully expelled from  his house by one Shri Sanjay\n",
      "Gupta, against whom he had filed the complaint in  question. In this\n",
      "complaint he had also alleged that Shri Sanjay Gupta had used\n",
      "casteist   remark...\n"
     ]
    }
   ],
   "source": [
    "pdf_response = search_engine.query(\"What was the decision on Ram Kishan Case\")\n",
    "pprint_response(pdf_response,show_source=True)"
   ]
  },
  {
   "cell_type": "code",
   "execution_count": null,
   "metadata": {},
   "outputs": [],
   "source": []
  }
 ],
 "metadata": {
  "kernelspec": {
   "display_name": "Python 3",
   "language": "python",
   "name": "python3"
  },
  "language_info": {
   "codemirror_mode": {
    "name": "ipython",
    "version": 3
   },
   "file_extension": ".py",
   "mimetype": "text/x-python",
   "name": "python",
   "nbconvert_exporter": "python",
   "pygments_lexer": "ipython3",
   "version": "3.10.13"
  }
 },
 "nbformat": 4,
 "nbformat_minor": 2
}
